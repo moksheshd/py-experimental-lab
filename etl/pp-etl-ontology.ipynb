{
 "cells": [
  {
   "cell_type": "code",
   "execution_count": 1,
   "id": "initial_id",
   "metadata": {
    "collapsed": true,
    "ExecuteTime": {
     "end_time": "2023-10-25T08:54:45.323995794Z",
     "start_time": "2023-10-25T08:54:45.076175947Z"
    }
   },
   "outputs": [],
   "source": [
    "import re\n",
    "import urllib.parse\n",
    "\n",
    "from pymongo import MongoClient\n",
    "from sqlalchemy import ForeignKeyConstraint\n",
    "from sqlalchemy import create_engine, Column, BigInteger, Float, String, Enum, ForeignKey, MetaData\n",
    "from sqlalchemy.dialects import postgresql\n",
    "from sqlalchemy.ext.declarative import declarative_base\n",
    "from sqlalchemy.orm import relationship\n",
    "from sqlalchemy.sql.ddl import CreateTable\n",
    "from sqlalchemy.sql.sqltypes import DateTime, Date"
   ]
  },
  {
   "cell_type": "code",
   "execution_count": 2,
   "outputs": [],
   "source": [
    "db_config = {\n",
    "    'postgres': {\n",
    "        'host': 'localhost',\n",
    "        'database': 'temp',\n",
    "        'username': 'postgres',\n",
    "        'password': 'postgres',\n",
    "    },\n",
    "    'mongo': {\n",
    "        'host': 'localhost',\n",
    "        'port': '27017',\n",
    "        'database': 'tenshi',\n",
    "        'username': 'root',\n",
    "        'password': 'root',\n",
    "        'auth_source': 'admin'\n",
    "    }\n",
    "}"
   ],
   "metadata": {
    "collapsed": false,
    "ExecuteTime": {
     "end_time": "2023-10-25T08:54:46.045984125Z",
     "start_time": "2023-10-25T08:54:46.030314782Z"
    }
   },
   "id": "3cbf997388754a5"
  },
  {
   "cell_type": "code",
   "execution_count": 3,
   "outputs": [],
   "source": [
    "def get_mongo_connection(mongo_config):\n",
    "    \"\"\"\n",
    "    Create a MongoDB connection string from the configuration dictionary.\n",
    "    \"\"\"\n",
    "    username = urllib.parse.quote_plus(mongo_config['username'])\n",
    "    password = urllib.parse.quote_plus(mongo_config['password'])\n",
    "    connection_string = (f\"mongodb://{username}:{password}@\"\n",
    "                         f\"{mongo_config['host']}:{mongo_config['port']}/\"\n",
    "                         f\"{mongo_config['database']}?authSource={mongo_config['auth_source']}\")\n",
    "    return MongoClient(connection_string)\n",
    "\n",
    "\n",
    "def get_postgres_engine(postgres_config):\n",
    "    username = urllib.parse.quote_plus(postgres_config['username'])\n",
    "    password = urllib.parse.quote_plus(postgres_config['password'])\n",
    "    connection_string = (f\"postgresql+psycopg2://{username}:{password}@\"\n",
    "                         f\"{postgres_config['host']}/\"\n",
    "                         f\"{postgres_config['database']}\")\n",
    "    return create_engine(connection_string, echo=False)\n",
    "\n",
    "\n",
    "# Function to convert camel case to snake case\n",
    "def camel_to_snake(name):\n",
    "    name = re.sub('(.)([A-Z][a-z]+)', r'\\1_\\2', name)\n",
    "    name = re.sub('([a-z0-9])([A-Z])', r'\\1_\\2', name).lower()\n",
    "    # Then, remove any non-alphanumeric characters (except underscores)\n",
    "    # by keeping only characters that are alphanumeric or underscores\n",
    "    name = re.sub(r'[^a-zA-Z0-9_]', '', name)\n",
    "    return name\n"
   ],
   "metadata": {
    "collapsed": false,
    "ExecuteTime": {
     "end_time": "2023-10-25T08:54:47.789371945Z",
     "start_time": "2023-10-25T08:54:47.786568549Z"
    }
   },
   "id": "ffdd0a0ba3b94218"
  },
  {
   "cell_type": "code",
   "execution_count": 4,
   "outputs": [],
   "source": [
    "mongo_client = get_mongo_connection(db_config['mongo'])\n",
    "source = mongo_client[db_config['mongo']['database']]\n",
    "destination_engine = get_postgres_engine(db_config['postgres'])"
   ],
   "metadata": {
    "collapsed": false,
    "ExecuteTime": {
     "end_time": "2023-10-25T08:54:49.465806727Z",
     "start_time": "2023-10-25T08:54:49.422414490Z"
    }
   },
   "id": "c1d8207db071d8e5"
  },
  {
   "cell_type": "code",
   "execution_count": 5,
   "outputs": [
    {
     "name": "stderr",
     "output_type": "stream",
     "text": [
      "/tmp/ipykernel_59359/16278981.py:16: MovedIn20Warning: The ``declarative_base()`` function is now available as sqlalchemy.orm.declarative_base(). (deprecated since: 2.0) (Background on SQLAlchemy 2.0 at: https://sqlalche.me/e/b8d9)\n",
      "  Base = declarative_base()\n"
     ]
    },
    {
     "name": "stdout",
     "output_type": "stream",
     "text": [
      "ALTER TABLE ad_instruments_or_equipments ADD CONSTRAINT fk_ad_instruments_or_equipments_areas_id FOREIGN KEY (areas_id) REFERENCES areas(areas_id);\n",
      "ALTER TABLE disinfectant_lots ADD CONSTRAINT fk_disinfectant_lots_disinfectant_solutions_id FOREIGN KEY (disinfectant_solutions_id) REFERENCES disinfectant_solutions(disinfectant_solutions_id);\n",
      "ALTER TABLE equipments ADD CONSTRAINT fk_equipments_areas_id FOREIGN KEY (areas_id) REFERENCES areas(areas_id);\n",
      "ALTER TABLE qc_instruments ADD CONSTRAINT fk_qc_instruments_areas_id FOREIGN KEY (areas_id) REFERENCES areas(areas_id);\n"
     ]
    }
   ],
   "source": [
    "\n",
    "\n",
    "from sqlalchemy.schema import ForeignKeyConstraint\n",
    "from sqlalchemy.sql.ddl import AddConstraint\n",
    "\n",
    "\n",
    "def create_rdbms_scheme(documents):\n",
    "    # A dictionary to hold all your table classes, since they're dynamically created\n",
    "    table_classes = {}\n",
    "\n",
    "    # A list to hold foreign key relations\n",
    "    foreign_keys = []\n",
    "\n",
    "    # A list to hold relations for alter table statements\n",
    "    relations_for_alter = []\n",
    "\n",
    "    # Base class for declarative tables\n",
    "    Base = declarative_base()\n",
    "\n",
    "    # Create a PostgreSQL table for each MongoDB document\n",
    "    for doc in documents:\n",
    "        table_name = camel_to_snake(doc['externalId'])\n",
    "        class_name = camel_to_snake(table_name)\n",
    "\n",
    "        primary_key_column_name = f\"{table_name}_id\"  # format the primary key as 'table_name_id'\n",
    "        # Create a new type dynamically\n",
    "        table_class = type(class_name, (Base,), {\n",
    "            '__tablename__': table_name,\n",
    "            primary_key_column_name: Column(String, primary_key=True),\n",
    "            '__table_args__': {'extend_existing': True}  # Allow redefinition if rerunning\n",
    "        })\n",
    "\n",
    "        # Add properties as columns\n",
    "        for prop in doc['properties']:\n",
    "            col_name = camel_to_snake(prop['externalId'])\n",
    "            col_type = String  # Default type is String\n",
    "\n",
    "            if prop['inputType'] == 'NUMBER':\n",
    "                col_type = Float\n",
    "            elif prop['inputType'] == 'DATE_TIME':\n",
    "                col_type = DateTime\n",
    "            elif prop['inputType'] == 'DATE':\n",
    "                col_type = Date\n",
    "            elif 'options' in prop:  # Enum type\n",
    "                # assuming the dictionaries have a 'name' field you want to use for the Enum\n",
    "                option_names = [option['displayName'] for option in prop['options']]\n",
    "                col_type = Enum(*option_names, name=f\"{table_name}_{col_name}_enum\")\n",
    "\n",
    "            comment = f\"{prop['_id']}\"\n",
    "            setattr(table_class, col_name, Column(col_type, comment=comment))\n",
    "\n",
    "        # Save the table class to the dictionary\n",
    "        table_classes[table_name] = table_class\n",
    "\n",
    "    # Now handle relations\n",
    "    for doc in documents:\n",
    "        table_name = camel_to_snake(doc['externalId'])\n",
    "        table_class = table_classes[table_name]\n",
    "\n",
    "        for rel in doc.get('relations', []):\n",
    "            # Find the related table\n",
    "            related_table_name = camel_to_snake(rel['externalId'])\n",
    "            related_table_class = table_classes.get(related_table_name)\n",
    "\n",
    "\n",
    "            if related_table_class:\n",
    "                # Prepare the information needed for alter table statements\n",
    "                source_table_name = camel_to_snake(doc['externalId'])\n",
    "                source_column_name = f\"{related_table_name}_id\"\n",
    "                target_table_name = related_table_name\n",
    "                target_column_name = f\"{related_table_name}_id\"\n",
    "            related_table_class = table_classes.get(related_table_name)\n",
    "\n",
    "            if related_table_class:\n",
    "                # Prepare the informat\n",
    "                relations_for_alter.append({\n",
    "                    'source_table': source_table_name,\n",
    "                    'source_column': source_column_name,\n",
    "                    'target_table': target_table_name,\n",
    "                    'target_column': target_column_name\n",
    "                })\n",
    "\n",
    "            # if related_table_class:\n",
    "            #     # Create a new column for the foreign key\n",
    "            #     related_primary_key = f\"{related_table_name}_id\"\n",
    "            #     foreign_key_column = f\"{related_table_name}_id\"\n",
    "            #     foreign_key = ForeignKey(f\"{related_table_name}.{related_primary_key}\")\n",
    "            #     setattr(table_class, foreign_key_column, Column(String, foreign_key))\n",
    "            # \n",
    "            #     # Add this relation to the foreign_keys list for creating the constraints later\n",
    "            #     foreign_keys.append({\n",
    "            #         'source_table': table_name,\n",
    "            #         'source_column': foreign_key_column,\n",
    "            #         'target_table': related_table_name,\n",
    "            #         'target_column': related_primary_key\n",
    "            #     })\n",
    "\n",
    "    # Create all tables in the database\n",
    "    Base.metadata.create_all(destination_engine)\n",
    "\n",
    "    # Print the SQL statements for alter table add foreign key constraints\n",
    "    for rel in relations_for_alter:\n",
    "        alter_stmt = (\n",
    "            f\"ALTER TABLE {rel['source_table']} \"\n",
    "            f\"ADD CONSTRAINT fk_{rel['source_table']}_{rel['source_column']} \"\n",
    "            f\"FOREIGN KEY ({rel['source_column']}) \"\n",
    "            f\"REFERENCES {rel['target_table']}({rel['target_column']});\"\n",
    "        )\n",
    "        print(alter_stmt)\n",
    "    # Add foreign keys \n",
    "    # metadata = MetaData()\n",
    "    # metadata.reflect(bind=destination_engine)\n",
    "    # \n",
    "    # # Add constraints to database\n",
    "    # with destination_engine.connect() as conn:\n",
    "    #     for fk in foreign_keys:\n",
    "    #         src_table = metadata.tables[fk['source_table']]\n",
    "    #         tgt_table = metadata.tables[fk['target_table']]\n",
    "    # \n",
    "    #         constraint = ForeignKeyConstraint(\n",
    "    #             [src_table.columns[fk['source_column']]],\n",
    "    #             [tgt_table.columns[fk['target_column']]],\n",
    "    #             name=f\"fk_{fk['source_table']}_{fk['source_column']}\"\n",
    "    #         )\n",
    "    #         src_table.append_constraint(constraint)\n",
    "    #         conn.execute(AddConstraint(constraint))\n",
    "\n",
    "collection = source['objectTypes']\n",
    "object_types = collection.find({'usageStatus': 1}).sort('externalId', 1)\n",
    "create_rdbms_scheme(list(object_types))"
   ],
   "metadata": {
    "collapsed": false,
    "ExecuteTime": {
     "end_time": "2023-10-25T08:54:53.391739023Z",
     "start_time": "2023-10-25T08:54:53.146798077Z"
    }
   },
   "id": "dfae8bbe0c3dc13b"
  },
  {
   "cell_type": "code",
   "execution_count": null,
   "outputs": [],
   "source": [
    "collection = source['objectTypes']\n",
    "object_types = collection.find({'usageStatus': 1}).sort('externalId', 1)\n",
    "create_rdbms_scheme(list(object_types))"
   ],
   "metadata": {
    "collapsed": false
   },
   "id": "1cc89bf0294db5b6"
  },
  {
   "cell_type": "code",
   "execution_count": null,
   "outputs": [],
   "source": [],
   "metadata": {
    "collapsed": false
   },
   "id": "a4187c6a973828a4"
  }
 ],
 "metadata": {
  "kernelspec": {
   "display_name": "Python 3",
   "language": "python",
   "name": "python3"
  },
  "language_info": {
   "codemirror_mode": {
    "name": "ipython",
    "version": 2
   },
   "file_extension": ".py",
   "mimetype": "text/x-python",
   "name": "python",
   "nbconvert_exporter": "python",
   "pygments_lexer": "ipython2",
   "version": "2.7.6"
  }
 },
 "nbformat": 4,
 "nbformat_minor": 5
}
