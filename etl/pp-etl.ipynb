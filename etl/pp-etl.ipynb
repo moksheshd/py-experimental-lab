{
 "cells": [
  {
   "cell_type": "code",
   "execution_count": 3,
   "id": "initial_id",
   "metadata": {
    "collapsed": true,
    "jupyter": {
     "outputs_hidden": true
    },
    "ExecuteTime": {
     "end_time": "2023-10-19T19:52:27.657466393Z",
     "start_time": "2023-10-19T19:52:27.338342470Z"
    }
   },
   "outputs": [],
   "source": [
    "import psycopg2\n",
    "from psycopg2 import extras\n",
    "import pandas as pd\n",
    "import json\n",
    "import re\n",
    "from tabulate import tabulate"
   ]
  },
  {
   "cell_type": "code",
   "execution_count": 4,
   "id": "2e1043407b18371b",
   "metadata": {
    "collapsed": false,
    "ExecuteTime": {
     "end_time": "2023-10-19T19:52:30.540606482Z",
     "start_time": "2023-10-19T19:52:30.527687753Z"
    }
   },
   "outputs": [],
   "source": [
    "host = \"localhost\"\n",
    "database = \"tenshi\"\n",
    "username = \"postgres\"\n",
    "password = \"postgres\""
   ]
  },
  {
   "cell_type": "code",
   "execution_count": 5,
   "id": "a45e0c940ddbce9e",
   "metadata": {
    "collapsed": false,
    "ExecuteTime": {
     "end_time": "2023-10-19T19:52:33.452121684Z",
     "start_time": "2023-10-19T19:52:33.442239619Z"
    }
   },
   "outputs": [],
   "source": [
    "source_connection = psycopg2.connect(f\"host={host} dbname={database} user={username} password={password}\")"
   ]
  },
  {
   "cell_type": "code",
   "execution_count": 6,
   "id": "e4e7977d73c05d25",
   "metadata": {
    "collapsed": false,
    "ExecuteTime": {
     "end_time": "2023-10-19T19:52:35.345478183Z",
     "start_time": "2023-10-19T19:52:35.327059087Z"
    }
   },
   "outputs": [],
   "source": [
    "params = {\n",
    "    'checklist_ids': (373013004340813824, 1),\n",
    "    'use_case_ids': (1660291903, 1660291904)\n",
    "}\n",
    "\n",
    "def get_next_id(df: pd.DataFrame, column: str):\n",
    "    max_df_id = df[column].max()\n",
    "    if pd.isna(max_df_id):\n",
    "        return 1\n",
    "    return max_df_id + 1"
   ]
  },
  {
   "cell_type": "code",
   "execution_count": null,
   "id": "a5e02f86e12d6be0",
   "metadata": {
    "collapsed": false
   },
   "outputs": [],
   "source": [
    "# ETL: Facility\n",
    "\n",
    "FACILITY_QUERY = \"\"\"\n",
    "SELECT id, name FROM facilities WHERE id != -1;\n",
    "\"\"\"\n",
    "facility_df = pd.read_sql(FACILITY_QUERY, source_connection, params=params)\n",
    "new_facility_df = facility_df.copy()\n",
    "new_facility_df.rename(columns={'id': 'facility_id', 'name': 'facility_name'}, inplace=True)\n",
    "print(tabulate(new_facility_df, headers='keys', tablefmt='pretty'))"
   ]
  },
  {
   "cell_type": "code",
   "execution_count": null,
   "id": "cd16fe9f444545b2",
   "metadata": {
    "collapsed": false
   },
   "outputs": [],
   "source": [
    "\n",
    "CHECKLIST_QUERY = \"\"\"\n",
    "SELECT c.id as checklist_id, c.name, c.code, uc.id as use_case_id, uc.name as use_case_name, cfm.facilities_id  \n",
    "FROM checklists c JOIN use_cases uc ON uc.id = c.use_cases_id JOIN checklist_facility_mapping cfm ON cfm.checklists_id = c.id\n",
    "WHERE c.state = 'PUBLISHED' AND c.archived = FALSE AND c.use_cases_id IN %(use_case_ids)s AND c.id IN %(checklist_ids)s\n",
    "\"\"\"\n",
    "checklist_df = pd.read_sql(CHECKLIST_QUERY, source_connection, params=params)\n",
    "new_process_df = checklist_df.copy()\n",
    "new_process_df.rename(columns={'checklist_id': 'id', 'use_case_name': 'process_type', 'name': 'process_name',\n",
    "                               'facilities_id': 'facility_id'}, inplace=True)\n",
    "new_process_df.drop('code', axis=1, inplace=True)\n",
    "new_process_df.drop('use_case_id', axis=1, inplace=True)\n",
    "print(tabulate(new_process_df, headers='keys', tablefmt='pretty'))"
   ]
  },
  {
   "cell_type": "code",
   "execution_count": null,
   "id": "391675c312c3c87e",
   "metadata": {
    "collapsed": false
   },
   "outputs": [],
   "source": [
    "STAGE_QUERY = \"\"\"\n",
    "SELECT s.id as stage_id, s.\"name\", s.checklists_id as checklist_id, s.order_tree FROM stages s JOIN checklists c ON c.id = s.checklists_id WHERE s.archived = FALSE AND c.id IN %(checklist_ids)s ORDER BY c.id, s.order_tree\n",
    "\"\"\"\n",
    "stage_df = pd.read_sql(STAGE_QUERY, source_connection, params=params)\n",
    "new_stage_df = stage_df.copy()\n",
    "new_stage_df.rename(columns={'stage_id': 'id', 'name': 'stage_name', 'checklist_id': 'process_id'}, inplace=True)\n",
    "new_stage_df.drop('order_tree', axis=1, inplace=True)\n",
    "new_stage_df['stage_type'] = ''\n",
    "print(tabulate(new_stage_df, headers='keys', tablefmt='pretty'))"
   ]
  },
  {
   "cell_type": "code",
   "execution_count": 7,
   "id": "49c3980352c75c51",
   "metadata": {
    "collapsed": false,
    "ExecuteTime": {
     "end_time": "2023-10-19T19:52:47.443103899Z",
     "start_time": "2023-10-19T19:52:47.294532420Z"
    }
   },
   "outputs": [
    {
     "name": "stdout",
     "output_type": "stream",
     "text": [
      "+----+--------------------+-------------------------------------------------------------------------------------+------------+--------------------+--------------------+\n",
      "|    |      task_id       |                                        name                                         | order_tree |      stage_id      |    checklist_id    |\n",
      "+----+--------------------+-------------------------------------------------------------------------------------+------------+--------------------+--------------------+\n",
      "| 0  | 373013004378562562 |                            Product and Equipment details                            |     1      | 373013004378562561 | 373013004340813824 |\n",
      "| 1  | 373039997950222336 |                                    Prerequisites                                    |     1      | 373013142618628096 | 373013004340813824 |\n",
      "| 2  | 373042088244535296 |                            Pre-preparation for cleaning                             |     1      | 373013143281328128 | 373013004340813824 |\n",
      "| 3  | 373044758523011072 |                             primary wiping of equipment                             |     2      | 373013143281328128 | 373013004340813824 |\n",
      "| 4  | 373047732557176832 |                            Secondary wiping of equipment                            |     3      | 373013143281328128 | 373013004340813824 |\n",
      "| 5  | 373049084695928832 |                            Tertiary wiping of equipment                             |     4      | 373013143281328128 | 373013004340813824 |\n",
      "| 6  | 373049799308861440 |                              Cleaning of return grills                              |     5      | 373013143281328128 | 373013004340813824 |\n",
      "| 7  | 373051923950329856 | After verification by WH/PR & IPQA (If applicable), further steps shall be followed |     6      | 373013143281328128 | 373013004340813824 |\n",
      "| 8  | 373021220659388416 |                             Verification of cleanliness                             |     1      | 373013143948222464 | 373013004340813824 |\n",
      "| 9  | 373021236992008192 |                         Cleaning verification confirmation                          |     2      | 373013143948222464 | 373013004340813824 |\n",
      "| 10 | 380576448879386624 |                                Verification by IPQA                                 |     1      | 373013144690614272 | 373013004340813824 |\n",
      "| 11 | 373014833027997696 |                             Verification of cleanliness                             |     2      | 373013144690614272 | 373013004340813824 |\n",
      "| 12 | 373014833694892032 |                                Cleaning verification                                |     3      | 373013144690614272 | 373013004340813824 |\n",
      "| 13 | 373013278346305536 |                            Cleaning verification result                             |     1      | 373013146125066240 | 373013004340813824 |\n",
      "+----+--------------------+-------------------------------------------------------------------------------------+------------+--------------------+--------------------+\n",
      "+----+--------------------+----------------------------------------------------------------------------------------------------------------+-------------------------------------------------------------------------------------------------------------------------------------------------------------------------------------------------------------------------------------------------------------------------------------------------------------------------------------------------------------------------------------------------------------------------------------------------------------------------------------------------------------------------------------------------------------------------------------------------------------------------------------------------------------------------------------------------------------------------------------------------------------------------------------------------------------------+---------------+------------+--------------------+--------------------+--------------------+\n",
      "|    |    parameter_id    |                                                      name                                                      |                                                                                                                                                                                                                                                                                                                                                                                                       data                                                                                                                                                                                                                                                                                                                                                                                                        |     type      | order_tree |      task_id       |      stage_id      |    checklist_id    |\n",
      "+----+--------------------+----------------------------------------------------------------------------------------------------------------+-------------------------------------------------------------------------------------------------------------------------------------------------------------------------------------------------------------------------------------------------------------------------------------------------------------------------------------------------------------------------------------------------------------------------------------------------------------------------------------------------------------------------------------------------------------------------------------------------------------------------------------------------------------------------------------------------------------------------------------------------------------------------------------------------------------------+---------------+------------+--------------------+--------------------+--------------------+\n",
      "| 0  | 373022867200532480 |                                        Enter the previous product name                                         |                                                                                                                                                                                                                                                                                                                                                                                                        {}                                                                                                                                                                                                                                                                                                                                                                                                         |  MULTI_LINE   |     1      | 373013004378562562 | 373013004378562561 | 373013004340813824 |\n",
      "| 1  | 373022878659371008 |                                          Enter the previous batch no                                           |                                                                                                                                                                                                                                                                                                                                                                                                        {}                                                                                                                                                                                                                                                                                                                                                                                                         |  MULTI_LINE   |     2      | 373013004378562562 | 373013004378562561 | 373013004340813824 |\n",
      "| 2  | 373039715077971968 |                                              Select the equipment                                              |                                                                                                                                                                                                                                                                               {'urlPath': '/objects/partial?collection=equipments', 'variables': {}, 'collection': 'equipments', 'objectTypeId': '6351132d5307a07100c59bae', 'propertyValidations': [], 'objectTypeExternalId': 'equipments', 'objectTypeDisplayName': 'Equipment'}                                                                                                                                                                                                                                                                               |   RESOURCE    |     3      | 373013004378562562 | 373013004378562561 | 373013004340813824 |\n",
      "| 3  | 380575577856663552 |                                                    Remarks                                                     |                                                                                                                                                                                                                                                                                                                                                                                                        {}                                                                                                                                                                                                                                                                                                                                                                                                         |  MULTI_LINE   |     4      | 373013004378562562 | 373013004378562561 | 373013004340813824 |\n",
      "| 4  | 373040419674906624 |                                              Ensure the following                                              |                                     [{'id': '3c5f2d3c-a832-47b0-8ee0-a1229d7024a3', 'name': 'Read and understand the below cleaning steps prior to cleaning'}, {'id': '6083f2a8-481e-45e3-8b3d-9b5e157b3182', 'name': 'Do not clean the machine while in operation'}, {'id': 'e8daae7d-3dd3-419d-937e-93123fb79614', 'name': 'Wear the gloves during cleaning'}, {'id': 'c0e72f49-c95e-431a-a02d-95035a0fc536', 'name': 'While cleaning ensure that no water entraps into electrical parts'}, {'id': '44529291-7e5b-482d-8caa-9669ce2efe9f', 'name': 'Nylon brush and cleaned container should be ready for use'}, {'id': '394c18e5-914d-4000-8264-2a2811e8d721', 'name': 'Availability of hot purified water temperature between 60°C to 65°C, IPA 70% and dry lint free'}]                                      |   CHECKLIST   |     1      | 373039997950222336 | 373013142618628096 | 373013004340813824 |\n",
      "| 5  | 373041311341993984 |                                              General instructions                                              | {'text': '<ul>\\n<li style=\"margin-left:1.5em;\"><span style=\"color: rgb(0,0,0);background-color: rgb(255,255,255);font-size: medium;font-family: Nunito, sans-serif;\">Upon completion of activity, equipment/accessories should be cleaned immediately.</span></li>\\n<li style=\"margin-left:1.5em;\"><span style=\"color: rgb(0,0,0);background-color: rgb(255,255,255);font-size: medium;font-family: Nunito, sans-serif;\">Cleaned equipment hold time for the equipment and accessories is 112 hours (equivalent to 4 days).</span></li>\\n<li><span style=\"color: rgb(0,0,0);background-color: rgb(255,255,255);font-size: medium;font-family: Nunito, sans-serif;\">Cleaned equipment and accessories if it is not used beyond above recommendations, clean the equipment before use.</span>&nbsp;</li>\\n</ul>\\n'} |  INSTRUCTION  |     2      | 373039997950222336 | 373013142618628096 | 373013004340813824 |\n",
      "| 6  | 373041518712578048 |                                                     To Do                                                      |                                                                                                                                                                                                                                                                                                                                                          [{'id': '3c7f914c-7f7d-4382-9077-be4da3a432bf', 'name': 'I have read the above instructions'}]                                                                                                                                                                                                                                                                                                                                                           |   CHECKLIST   |     3      | 373039997950222336 | 373013142618628096 | 373013004340813824 |\n",
      "| 7  | 373044571054399488 |                                                     To Do                                                      |                                                                                                                                                                                                                                                                [{'id': '93eb4d2e-d96e-42bf-b801-6b8146b494f3', 'name': 'Remove the labels, materials and documents of previous product from the area and equipment (if any).'}, {'id': '36a04e57-3556-4729-bd26-463453a78039', 'name': 'Attach ‘To be cleaned’ status label for the equipment.'}]                                                                                                                                                                                                                                                                 |   CHECKLIST   |     1      | 373042088244535296 | 373013143281328128 | 373013004340813824 |\n",
      "| 8  | 373044818002436096 |                                                     To Do                                                      |                                                                                                                                                                                                                                                                      {'text': '<ul>\\n<li>Collect the sufficient quantity of IPA 70% in a beaker</li>\\n<li>Lint free wipe shall be dipped and squeezed in sufficient quantity of 70% IPA</li>\\n<li>Wipe the listed parts with the lint free wipe which dampened with 70% IPA.</li>\\n</ul>\\n'}                                                                                                                                                                                                                                                                      |  INSTRUCTION  |     1      | 373044758523011072 | 373013143281328128 | 373013004340813824 |\n",
      "| 9  | 373045837918756864 |                                             Select the wiped parts                                             |                                                                                                                                                                     [{'id': 'e5c9670a-68f0-4a01-81d4-e326a4f31cba', 'name': 'Booth external surface'}, {'id': 'dff5c058-a4b3-4b7e-b596-9d8599db76b8', 'name': 'Hood'}, {'id': '1d21642e-214a-4239-9fd9-e0a2f11dc9d4', 'name': 'Side walls'}, {'id': '892ba61f-b5cc-4535-9b6a-91344ecbd1d9', 'name': 'Return raisers'}, {'id': 'fd5666bb-81e5-49a6-be3b-9edb4b96696c', 'name': 'Table'}, {'id': '7c078cb1-5477-449d-bfcc-c00e6a4a23fb', 'name': 'Other (if any, please specify in remarks)'}]                                                                                                                                                                      |   CHECKLIST   |     2      | 373044758523011072 | 373013143281328128 | 373013004340813824 |\n",
      "| 10 | 373047622049849344 |                                                    Remarks                                                     |                                                                                                                                                                                                                                                                                                                                                                                                        {}                                                                                                                                                                                                                                                                                                                                                                                                         |  MULTI_LINE   |     3      | 373044758523011072 | 373013143281328128 | 373013004340813824 |\n",
      "| 11 | 373047673132277760 |                                                 Primary wiping                                                 |                                                                                                                                                                                                                                                                                                                                                              [{'id': 'f8c224a3-bb45-4f4e-b9d7-95d192e693c6', 'name': 'Primary wiping is completed'}]                                                                                                                                                                                                                                                                                                                                                              |   CHECKLIST   |     4      | 373044758523011072 | 373013143281328128 | 373013004340813824 |\n",
      "| 12 | 373047771023138816 |                                                     To Do                                                      |                                                    {'text': '<ul>\\n<li style=\"margin-left:1.5em;\"><span style=\"color: rgb(0,0,0);background-color: rgb(255,255,255);font-size: medium;font-family: Nunito, sans-serif;\">Collect the sufficient quantity of hot purified water in a beaker</span></li>\\n<li><span style=\"color: rgb(0,0,0);background-color: rgb(255,255,255);font-size: medium;font-family: Nunito, sans-serif;\">Lint free wipe shall be dipped and squeezed in collected hot purified water</span></li>\\n<li><span style=\"color: rgb(0,0,0);background-color: rgb(255,255,255);font-size: medium;font-family: Nunito, sans-serif;\">Wipe the listed parts with the lint free wipe which dampened in hot purified water</span></li>\\n</ul>\\n'}                                                     |  INSTRUCTION  |     1      | 373047732557176832 | 373013143281328128 | 373013004340813824 |\n",
      "| 13 | 373047801230516224 |                                             Select the wiped parts                                             |                                                                                                                                                                     [{'id': 'a0ed5a3e-d89e-481f-8201-17bf0f9bcf66', 'name': 'Booth external surface'}, {'id': 'a2e11dda-142e-4c48-9f62-b3241a5e76a5', 'name': 'Hood'}, {'id': 'c0d44823-0213-4a43-b82a-0efe81c3576b', 'name': 'Side walls'}, {'id': 'b9bc553e-1a87-4b79-b341-665ec60b11b0', 'name': 'Return raisers'}, {'id': '92056f07-e47b-415d-bf83-912ea58b5b64', 'name': 'Table'}, {'id': '15b9f867-e642-492d-8dd6-fc959a4c2b24', 'name': 'Other (if any, please specify in remarks)'}]                                                                                                                                                                      |   CHECKLIST   |     2      | 373047732557176832 | 373013143281328128 | 373013004340813824 |\n",
      "| 14 | 373047835342790656 |                                                    Remarks                                                     |                                                                                                                                                                                                                                                                                                                                                                                                        {}                                                                                                                                                                                                                                                                                                                                                                                                         |  MULTI_LINE   |     3      | 373047732557176832 | 373013143281328128 | 373013004340813824 |\n",
      "| 15 | 373047854603034624 |                                                Secondary wiping                                                |                                                                                                                                                                                                                                                                                                                                                             [{'id': '968c774e-7698-4f93-be3a-0585c335ab48', 'name': 'Secondary wiping is completed'}]                                                                                                                                                                                                                                                                                                                                                             |   CHECKLIST   |     4      | 373047732557176832 | 373013143281328128 | 373013004340813824 |\n",
      "| 16 | 373049198483202048 |                                                  Instruction                                                   |                                                                                                                                                                                                                                                                                                                                                                   {'text': '<p>Gently wipe all the areas with clean dry lint free wipes</p>\\n'}                                                                                                                                                                                                                                                                                                                                                                   |  INSTRUCTION  |     1      | 373049084695928832 | 373013143281328128 | 373013004340813824 |\n",
      "| 17 | 373049212693504000 |                                                Tertiary wiping                                                 |                                                                                                                                                                                                                                                                                                                                                             [{'id': '9f2d1d3d-a7d8-4249-831b-f3b961fb961b', 'name': 'Wiping activity is completed'}]                                                                                                                                                                                                                                                                                                                                                              |   CHECKLIST   |     2      | 373049084695928832 | 373013143281328128 | 373013004340813824 |\n",
      "| 18 | 373049940812095488 |                                           Cleaning of Return grills                                            |                                                                                                                                                                                                                                                                                                                                 [{'id': '7b7302f3-0022-44c1-8d0a-d0d15c274a69', 'name': 'Applicable'}, {'id': '846b7316-1149-42a2-a191-604ce782cfcb', 'name': 'Non applicable'}]                                                                                                                                                                                                                                                                                                                                  | SINGLE_SELECT |     1      | 373049799308861440 | 373013143281328128 | 373013004340813824 |\n",
      "| 19 | 373050139697602560 |                                         Enter the Return grill ID - 1                                          |                                                                                                                                                                                                                                                                                                                                                                                                        {}                                                                                                                                                                                                                                                                                                                                                                                                         |  MULTI_LINE   |     2      | 373049799308861440 | 373013143281328128 | 373013004340813824 |\n",
      "| 20 | 373050154734182400 |                                         Enter the Return grill ID - 2                                          |                                                                                                                                                                                                                                                                                                                                                                                                        {}                                                                                                                                                                                                                                                                                                                                                                                                         |  MULTI_LINE   |     3      | 373049799308861440 | 373013143281328128 | 373013004340813824 |\n",
      "| 21 | 373050391544586240 |                                                     To Do                                                      |                                                                                                                                                                                                                          [{'id': 'a37a0117-adf8-4005-b49a-d666e26792f5', 'name': 'Return grills has been transferred to washing room'}, {'id': 'fc8cc8a7-d88f-40b7-9643-c4746e6891e0', 'name': 'Wash the return grills with sufficient quantity of potable water'}, {'id': '771ae040-99fd-4021-84b4-4455adef6813', 'name': 'Clean the surface of the return grills using nylon brush'}]                                                                                                                                                                                                                           |   CHECKLIST   |     4      | 373049799308861440 | 373013143281328128 | 373013004340813824 |\n",
      "| 22 | 373051174176546816 |                                       Temperature of Hot purified water                                        |                                                                                                                                                                                                                                                                                                                             {'uom': '° C', 'type': '', 'value': '', 'operator': 'BETWEEN', 'parameter': 'Temperature of Hot purified water ', 'lowerValue': '60', 'upperValue': '65'}                                                                                                                                                                                                                                                                                                                             |   SHOULD_BE   |     5      | 373049799308861440 | 373013143281328128 | 373013004340813824 |\n",
      "| 23 | 373051430008119296 |                                             Final rinse and drying                                             |                                                                                                                                                                                                                                                                                    [{'id': '554634e4-495d-4639-b7de-4f63ea572b78', 'name': 'Final rinse the return grills with hot purified water temperature between 60° C - 65°C'}, {'id': '97acaef8-8375-4810-a5f6-89b0523b4a95', 'name': 'Dry with dry lint free wipes'}]                                                                                                                                                                                                                                                                                     |   CHECKLIST   |     6      | 373049799308861440 | 373013143281328128 | 373013004340813824 |\n",
      "| 24 | 373051811287130112 |                                             Completion of cleaning                                             |                                                                                                                                                                                                                                                                                                                                                          [{'id': '81930742-6fc7-4674-af3e-3783a1b38213', 'name': 'Cleaning of return grills completed'}]                                                                                                                                                                                                                                                                                                                                                          |   CHECKLIST   |     7      | 373049799308861440 | 373013143281328128 | 373013004340813824 |\n",
      "| 25 | 373052201294487552 |                                                     To Do                                                      |                                                                                                                                                                                                              [{'id': '8493251b-802a-4547-bc13-be515b03dccc', 'name': 'Affix the \"cleaned label\" to the cleaned equipment'}, {'id': '5a5ad56a-214b-4be4-ab5d-0f0e1529d078', 'name': 'Affix the \"cleaned label\" to the cleaned return grills'}, {'id': '2f291e64-043d-49f9-b37f-70a1ed57e2ec', 'name': 'Cover the cleaned return grills with polythene cover and transfer to dedicated cleaned area'}]                                                                                                                                                                                                              |   CHECKLIST   |     1      | 373051923950329856 | 373013143281328128 | 373013004340813824 |\n",
      "| 26 | 373021476339965952 |                                           Visual inspection done for                                           |                                                                                                                                                                                                                                                                                          [{'id': 'd33d3858-a3c3-4fdf-b6ac-4780ca9ae162', 'name': 'Sampling booth'}, {'id': '5752518a-083d-4850-8b17-1f9aa4942161', 'name': 'Dispensing booth'}, {'id': 'ec260bed-6999-4539-b6e4-ed47ae54dd60', 'name': 'Return grills'}]                                                                                                                                                                                                                                                                                          |   CHECKLIST   |     1      | 373021220659388416 | 373013143948222464 | 373013004340813824 |\n",
      "| 27 | 373021737343115264 |                                  Sampling booth - Result of visual inspection                                  |                                                                                                                                                                                                                                                                                                                 [{'id': 'd487615d-7756-4c96-baf0-8f5ace066e89', 'name': 'Satisfactory', 'type': 'yes'}, {'id': '9db7ab1e-752f-4298-b7f7-2835c807b5e8', 'name': 'Not satisfactory', 'type': 'no'}]                                                                                                                                                                                                                                                                                                                 |    YES_NO     |     2      | 373021220659388416 | 373013143948222464 | 373013004340813824 |\n",
      "| 28 | 373021750609698816 |                                 Dispensing booth - Result of visual inspection                                 |                                                                                                                                                                                                                                                                                                                 [{'id': '2bb96e6e-01e7-4b4c-a66c-91e925814581', 'name': 'Satisfactory', 'type': 'yes'}, {'id': '063f1074-4962-47aa-95bd-0c4a08349a5c', 'name': 'Not satisfactory', 'type': 'no'}]                                                                                                                                                                                                                                                                                                                 |    YES_NO     |     3      | 373021220659388416 | 373013143948222464 | 373013004340813824 |\n",
      "| 29 | 373021763972751360 |                                  Return grills - Result of visual inspection                                   |                                                                                                                                                                                                                                                                                                                 [{'id': '17b224ca-a435-4566-958f-d546a552a048', 'name': 'Satisfactory', 'type': 'yes'}, {'id': '960ea382-bae4-4643-84fb-0bf6f40ef80a', 'name': 'Not satisfactory', 'type': 'no'}]                                                                                                                                                                                                                                                                                                                 |    YES_NO     |     4      | 373021220659388416 | 373013143948222464 | 373013004340813824 |\n",
      "| 30 | 373022108484493312 |                                       Note: (If it is not satisfactory)                                        |                {'text': '<ul>\\n<li style=\"margin-left:1.5em;\"><span style=\"color: rgb(0,0,0);background-color: rgb(255,255,255);font-size: medium;font-family: Nunito, sans-serif;\">If it is not- satisfactory, Re- cleaning shall be executed with new checklist.</span></li>\\n<li style=\"margin-left:1.5em;\"><span style=\"color: rgb(0,0,0);background-color: rgb(255,255,255);font-size: medium;font-family: Nunito, sans-serif;\">Supervisor should complete the upcoming tasks with Not- applicable.</span></li>\\n<li style=\"margin-left:1.5em;\"><span style=\"color: rgb(0,0,0);background-color: rgb(255,255,255);font-size: medium;font-family: Nunito, sans-serif;\">Supervisor shall create a new job and provide the created JOB ID for reference in remarks</span>&nbsp;</li>\\n</ul>\\n'}                 |  INSTRUCTION  |     5      | 373021220659388416 | 373013143948222464 | 373013004340813824 |\n",
      "| 31 | 373022119364517888 |                                                    Remarks                                                     |                                                                                                                                                                                                                                                                                                                                                                                                        {}                                                                                                                                                                                                                                                                                                                                                                                                         |  MULTI_LINE   |     6      | 373021220659388416 | 373013143948222464 | 373013004340813824 |\n",
      "| 32 | 373022128835256320 |                               Once the satisfactory result on visual inspection                                |                                                                                                                                                                                                                                                             [{'id': 'bb07c8a5-494c-40bc-b606-5ffeda00867e', 'name': 'Proceed to update the status label of equipment'}, {'id': 'eed47777-5881-43bc-a968-dcea1bcd9e05', 'name': 'Proceed to cover the cleaned return grills, update the status label and transfer to cleaned area / storage cabinet'}]                                                                                                                                                                                                                                                             |   CHECKLIST   |     7      | 373021220659388416 | 373013143948222464 | 373013004340813824 |\n",
      "| 33 | 373022578682748928 |                                         Cleaning verification activity                                         |                                                                                                                                                                                                                                                                                                                                 [{'id': 'b17925d0-e3a9-4853-aaf6-11eaae26d7cc', 'name': 'Applicable '}, {'id': '16939b62-d4a3-47d9-8340-347815f07af5', 'name': 'Not applicable'}]                                                                                                                                                                                                                                                                                                                                 | SINGLE_SELECT |     1      | 373021236992008192 | 373013143948222464 | 373013004340813824 |\n",
      "| 34 | 373022604079259648 |    If it is applicable, please provide the protocol number of cleaning verification / validation protocol.     |                                                                                                                                                                                                                                                                                                                                                                                                        {}                                                                                                                                                                                                                                                                                                                                                                                                         |  MULTI_LINE   |     2      | 373021236992008192 | 373013143948222464 | 373013004340813824 |\n",
      "| 35 | 380576653259431936 |                                Is cleanliness verification by IPQA applicable?                                 |                                                                                                                                                                                                                                                                                                                                     [{'id': 'a4dafe2a-184e-4592-9a74-35d319324c88', 'name': 'Yes'}, {'id': '5741bc5b-b4dc-4af2-b102-7df271b848b9', 'name': 'Not Applicable'}]                                                                                                                                                                                                                                                                                                                                     | SINGLE_SELECT |     1      | 380576448879386624 | 373013144690614272 | 373013004340813824 |\n",
      "| 36 | 373015631346655232 |                                           Visual inspection done for                                           |                                                                                                                                                                                                                                                                                          [{'id': 'f11ad332-3c61-4e3e-9621-f15534db02a3', 'name': 'Sampling booth'}, {'id': '7cf30f92-2210-474f-8f7a-0b1ece1accb4', 'name': 'Dispensing booth'}, {'id': 'bc6530b5-f9df-4022-84d4-57e0b9a78787', 'name': 'Return grills'}]                                                                                                                                                                                                                                                                                          |   CHECKLIST   |     1      | 373014833027997696 | 373013144690614272 | 373013004340813824 |\n",
      "| 37 | 373016249700311040 |                                  Sampling booth - Result of visual inspection                                  |                                                                                                                                                                                                                                                                                                                 [{'id': '3429e37f-a4e0-4077-997e-29804cf23a3c', 'name': 'Satisfactory', 'type': 'yes'}, {'id': '5fc8db22-4ec1-4a77-9237-6def4eb78450', 'name': 'Not satisfactory', 'type': 'no'}]                                                                                                                                                                                                                                                                                                                 |    YES_NO     |     2      | 373014833027997696 | 373013144690614272 | 373013004340813824 |\n",
      "| 38 | 373016416579084288 |                                 Dispensing booth - Result of visual inspection                                 |                                                                                                                                                                                                                                                                                                                 [{'id': 'ed9ae8d7-6955-4d91-9f03-fa7facf81119', 'name': 'Satisfactory', 'type': 'yes'}, {'id': 'bde415d3-0921-48b5-ac2b-5c2d6b745aab', 'name': 'Not satisfactory', 'type': 'no'}]                                                                                                                                                                                                                                                                                                                 |    YES_NO     |     3      | 373014833027997696 | 373013144690614272 | 373013004340813824 |\n",
      "| 39 | 373016431720521728 |                                  Return grills - Result of visual inspection                                   |                                                                                                                                                                                                                                                                                                                 [{'id': '896923e1-ec78-4c1b-9d91-d95c5715e423', 'name': 'Satisfactory', 'type': 'yes'}, {'id': 'df24c098-40e4-4a51-b0fb-959c47ca7fa4', 'name': 'Not satisfactory', 'type': 'no'}]                                                                                                                                                                                                                                                                                                                 |    YES_NO     |     4      | 373014833027997696 | 373013144690614272 | 373013004340813824 |\n",
      "| 40 | 373017553940111360 |                                       Note: (If it is not satisfactory)                                        |                                                                                                                                                                                                                                                       {'text': '<ul>\\n<li>If it is not- satisfactory, Re- cleaning shall be executed with new checklist.</li>\\n<li>Supervisor should complete the upcoming tasks with Not- applicable.</li>\\n<li>Supervisor shall create a new job and provide the created JOB ID for reference in remarks</li>\\n</ul>\\n'}                                                                                                                                                                                                                                                        |  INSTRUCTION  |     5      | 373014833027997696 | 373013144690614272 | 373013004340813824 |\n",
      "| 41 | 373017577872809984 |                                                    Remarks                                                     |                                                                                                                                                                                                                                                                                                                                                                                                        {}                                                                                                                                                                                                                                                                                                                                                                                                         |  MULTI_LINE   |     6      | 373014833027997696 | 373013144690614272 | 373013004340813824 |\n",
      "| 42 | 373017593098133504 |                               Once the satisfactory result on visual inspection                                |                                                                                                                                                                                                                                                             [{'id': 'c1b1782f-c022-494a-9a4f-5e57c800a085', 'name': 'Proceed to update the status label of equipment'}, {'id': '2ce679c5-70fe-4e99-9e55-324a9e2568f1', 'name': 'Proceed to cover the cleaned return grills, update the status label and transfer to cleaned area / storage cabinet'}]                                                                                                                                                                                                                                                             |   CHECKLIST   |     7      | 373014833027997696 | 373013144690614272 | 373013004340813824 |\n",
      "| 43 | 373020410110140416 |                                   Cleaning verification/ validation activity                                   |                                                                                                                                                                                                                                                                                                                                 [{'id': '45bfdb90-6f2d-4356-92d1-b09d79b178e8', 'name': 'Applicable'}, {'id': '9557f537-7175-4e93-864a-cec9284d8edb', 'name': 'Non applicable'}]                                                                                                                                                                                                                                                                                                                                  | SINGLE_SELECT |     1      | 373014833694892032 | 373013144690614272 | 373013004340813824 |\n",
      "| 44 | 373020569938288640 | If it is applicable, please provide the Protocol/Report number of cleaning verification / validation protocol. |                                                                                                                                                                                                                                                                                                                                                                                                        {}                                                                                                                                                                                                                                                                                                                                                                                                         |  MULTI_LINE   |     2      | 373014833694892032 | 373013144690614272 | 373013004340813824 |\n",
      "| 45 | 373020585453019136 |                                                     To Do                                                      |                                                                                                                                                                                                                                                                  [{'id': '30d29c02-7d4f-4ceb-81d8-b41f9ab22ac4', 'name': 'Forwarded request for swab/ rinse analysis to QC'}, {'id': 'a4ff66fa-4c8b-47e4-a704-30f9187555cb', 'name': 'Swab/ Rinse sampling has been collected as per the approved cleaning verification/ validation protocol.'}]                                                                                                                                                                                                                                                                  |   CHECKLIST   |     3      | 373014833694892032 | 373013144690614272 | 373013004340813824 |\n",
      "| 46 | 373013307748376576 |                            Is waiting for cleaning verification result applicable ?                            |                                                                                                                                                                                                                                                                                                                                 [{'id': 'c8b7ad57-c1da-4e6d-9b80-c6d94400222b', 'name': 'Applicable'}, {'id': 'db46d32c-ee04-4aec-9028-f7dbee74616a', 'name': 'Not Applicable'}]                                                                                                                                                                                                                                                                                                                                  | SINGLE_SELECT |     1      | 373013278346305536 | 373013146125066240 | 373013004340813824 |\n",
      "| 47 | 373013329630060544 |                                                 Sample result                                                  |                                                                                                                                                                                                                                                                                                                  [{'id': '3139fbbe-8f55-429d-876b-0a4687a0654b', 'name': 'Complies ', 'type': 'yes'}, {'id': '7895ee22-f347-48e7-a1b5-82a680ec2e04', 'name': 'Does not complies', 'type': 'no'}]                                                                                                                                                                                                                                                                                                                  |    YES_NO     |     2      | 373013278346305536 | 373013146125066240 | 373013004340813824 |\n",
      "| 48 | 373013348022083584 |                                   If it is not complies, initiate deviation                                    |                                                                                                                                                                                                                                                                                                                                           [{'id': 'de1c7dd0-aed5-48b3-9a53-ede1b61a48f7', 'name': 'Yes'}, {'id': '3ef65046-9535-43aa-bc0b-cbef664ffeb6', 'name': 'NA'}]                                                                                                                                                                                                                                                                                                                                           | SINGLE_SELECT |     3      | 373013278346305536 | 373013146125066240 | 373013004340813824 |\n",
      "| 49 | 373013371279499264 |                                           Provide the Deviation No.                                            |                                                                                                                                                                                                                                                                                                                                                                                                        {}                                                                                                                                                                                                                                                                                                                                                                                                         |  MULTI_LINE   |     4      | 373013278346305536 | 373013146125066240 | 373013004340813824 |\n",
      "| 50 | 373013385502384128 |      If re- cleaning is applicable with new JOB as per deviation, please provide the JOB ID for reference      |                                                                                                                                                                                                                                                                                                                                                                                                        {}                                                                                                                                                                                                                                                                                                                                                                                                         |  MULTI_LINE   |     5      | 373013278346305536 | 373013146125066240 | 373013004340813824 |\n",
      "| 51 | 373013402304765952 |                                     Please attach reference, if applicable                                     |                                                                                                                                                                                                                                                                                                                                                                                                        {}                                                                                                                                                                                                                                                                                                                                                                                                         |     MEDIA     |     6      | 373013278346305536 | 373013146125066240 | 373013004340813824 |\n",
      "| 52 | 373013415852367872 |                                                     To Do                                                      |                                                                                                                                                                                                                                                                                                                                                       [{'id': 'd78dd054-127b-4fb8-b33a-6e9285b577c4', 'name': 'Cleared for Sampling/ Dispensing activity'}]                                                                                                                                                                                                                                                                                                                                                       |   CHECKLIST   |     7      | 373013278346305536 | 373013146125066240 | 373013004340813824 |\n",
      "+----+--------------------+----------------------------------------------------------------------------------------------------------------+-------------------------------------------------------------------------------------------------------------------------------------------------------------------------------------------------------------------------------------------------------------------------------------------------------------------------------------------------------------------------------------------------------------------------------------------------------------------------------------------------------------------------------------------------------------------------------------------------------------------------------------------------------------------------------------------------------------------------------------------------------------------------------------------------------------------+---------------+------------+--------------------+--------------------+--------------------+\n"
     ]
    },
    {
     "name": "stderr",
     "output_type": "stream",
     "text": [
      "/tmp/ipykernel_128285/3271417976.py:4: UserWarning: pandas only supports SQLAlchemy connectable (engine/connection) or database string URI or sqlite3 DBAPI2 connection. Other DBAPI2 objects are not tested. Please consider using SQLAlchemy.\n",
      "  task_df = pd.read_sql(TASK_QUERY, source_connection, params=params)\n",
      "/tmp/ipykernel_128285/3271417976.py:10: UserWarning: pandas only supports SQLAlchemy connectable (engine/connection) or database string URI or sqlite3 DBAPI2 connection. Other DBAPI2 objects are not tested. Please consider using SQLAlchemy.\n",
      "  parameter_df = pd.read_sql(PARAMETER_QUERY, source_connection, params=params)\n"
     ]
    }
   ],
   "source": [
    "TASK_QUERY = \"\"\"\n",
    "SELECT t.id as task_id, t.name, t.order_tree, t.stages_id as stage_id, s.checklists_id as checklist_id FROM tasks t JOIN stages s ON s.id = t.stages_id JOIN checklists c ON c.id = s.checklists_id WHERE t.archived = FALSE AND s.archived = FALSE AND c.id IN %(checklist_ids)s ORDER BY c.id, s.order_tree, t.order_tree \n",
    "\"\"\"\n",
    "task_df = pd.read_sql(TASK_QUERY, source_connection, params=params)\n",
    "new_step_df = task_df.copy()\n",
    "\n",
    "PARAMETER_QUERY = \"\"\"\n",
    "SELECT p.id as parameter_id, p.\"label\" AS name, p.\"data\", p.\"type\", p.order_tree, p.tasks_id as task_id, t.stages_id as stage_id, s.checklists_id as checklist_id FROM parameters p JOIN tasks t ON t.id = p.tasks_id JOIN stages s ON s.id = t.stages_id JOIN checklists c ON c.id = s.checklists_id WHERE p.archived = FALSE  AND t.archived = FALSE AND s.archived = FALSE AND c.id IN %(checklist_ids)s ORDER BY c.id, s.order_tree, t.order_tree, p.order_tree\n",
    "\"\"\"\n",
    "parameter_df = pd.read_sql(PARAMETER_QUERY, source_connection, params=params)\n",
    "new_step_attribute_df = pd.DataFrame(\n",
    "    columns=['id', 'step_id', 'data_type_id', 'attribute_label', 'resource_id', 'expected_value1', 'expected_value2',\n",
    "             'comparison_operator', 'resource_type'])\n",
    "\n",
    "new_step_attribute_data_types_df = pd.DataFrame(\n",
    "    columns=['data_type_id', 'measurement_type', 'measurement_unit', 'measurement_description'])\n",
    "\n",
    "print(tabulate(task_df, headers='keys', tablefmt='pretty'))\n",
    "print(tabulate(parameter_df, headers='keys', tablefmt='pretty'))"
   ]
  },
  {
   "cell_type": "code",
   "execution_count": null,
   "id": "2cc37324ee77959",
   "metadata": {
    "collapsed": false
   },
   "outputs": [],
   "source": [
    "parameter_types = ('INSTRUCTION', 'MATERIAL')\n",
    "# instruction_df = parameter_df.query('type in @parameter_types')\n",
    "# for index, row in instruction_df.iterrows():\n",
    "#     type = row['type']\n",
    "#     task_id = row['task_id']\n",
    "#     if type == 'INSTRUCTION':\n",
    "#         data = row['data']\n",
    "#         task_id = row['task_id']\n",
    "#         text = data['text']\n",
    "#         text = re.sub(r'<.*?>', '', text)\n",
    "#         if task_id not in instructions:\n",
    "#             instructions[task_id] = []\n",
    "#         instructions[task_id].append(text)\n",
    "# \n",
    "# for task_id, texts in instructions.items():\n",
    "#     instruction = \"\\n\".join(texts)\n",
    "#     task_df.loc[task_df['task_id'] == task_id, 'instruction'] = instruction\n",
    "\n",
    "# Filter to just instructions \n",
    "instruction_df = parameter_df[parameter_df['type'] == 'INSTRUCTION']\n",
    "\n",
    "# Compile regex once \n",
    "regex = re.compile(r'<.*?>')\n",
    "\n",
    "# Remove HTML tags in a vectorized manner and create a new 'clean_text' column\n",
    "instruction_df['instruction'] = instruction_df['data'].apply(lambda x: re.sub(regex, '', x['text']))\n",
    "\n",
    "# Group by 'task_id' and 'type', then join the texts together\n",
    "grouped = instruction_df.groupby(['task_id', 'type'])['instruction'].apply('\\n'.join).reset_index()\n",
    "\n",
    "# Filter out only the 'INSTRUCTION' type\n",
    "instructions = grouped[grouped['type'] == 'INSTRUCTION']\n",
    "\n",
    "new_step_df = new_step_df.merge(instructions[['task_id', 'instruction']], on='task_id', how='left')\n",
    "\n",
    "new_step_df.rename(columns={'task_id': 'id', 'name': 'step_name'}, inplace=True)\n",
    "new_step_df.drop('order_tree', axis=1, inplace=True)\n",
    "new_step_df.drop('stage_id', axis=1, inplace=True)\n",
    "new_step_df.drop('checklist_id', axis=1, inplace=True)\n",
    "\n",
    "print(tabulate(new_step_df, headers='keys', tablefmt='pretty'))\n"
   ]
  },
  {
   "cell_type": "code",
   "execution_count": 1,
   "id": "6a5116e0a86e3e8d",
   "metadata": {
    "collapsed": false,
    "ExecuteTime": {
     "end_time": "2023-10-19T19:52:11.507365791Z",
     "start_time": "2023-10-19T19:52:11.357678458Z"
    }
   },
   "outputs": [
    {
     "ename": "NameError",
     "evalue": "name 'get_next_id' is not defined",
     "output_type": "error",
     "traceback": [
      "\u001B[0;31m---------------------------------------------------------------------------\u001B[0m",
      "\u001B[0;31mNameError\u001B[0m                                 Traceback (most recent call last)",
      "Cell \u001B[0;32mIn[1], line 79\u001B[0m\n\u001B[1;32m     74\u001B[0m     \u001B[38;5;66;03m# if type == 'YES_NO':\u001B[39;00m\n\u001B[1;32m     75\u001B[0m     \u001B[38;5;66;03m#     measurement_type = 'boolean'\u001B[39;00m\n\u001B[1;32m     77\u001B[0m     \u001B[38;5;28;01mreturn\u001B[39;00m new_rows_attribute_data_type, new_rows_attribute\n\u001B[0;32m---> 79\u001B[0m next_id \u001B[38;5;241m=\u001B[39m \u001B[43mget_next_id\u001B[49m(new_step_attribute_data_types_df, \u001B[38;5;124m'\u001B[39m\u001B[38;5;124mdata_type_id\u001B[39m\u001B[38;5;124m'\u001B[39m)\n\u001B[1;32m     81\u001B[0m relevant_parameter_df \u001B[38;5;241m=\u001B[39m parameter_df[\u001B[38;5;241m~\u001B[39mparameter_df[\u001B[38;5;124m'\u001B[39m\u001B[38;5;124mtype\u001B[39m\u001B[38;5;124m'\u001B[39m]\u001B[38;5;241m.\u001B[39misin([\u001B[38;5;124m'\u001B[39m\u001B[38;5;124mINSTRUCTION\u001B[39m\u001B[38;5;124m'\u001B[39m, \u001B[38;5;124m'\u001B[39m\u001B[38;5;124mMATERIAL\u001B[39m\u001B[38;5;124m'\u001B[39m])]\n\u001B[1;32m     82\u001B[0m \u001B[38;5;28;01mfor\u001B[39;00m index, row \u001B[38;5;129;01min\u001B[39;00m relevant_parameter_df\u001B[38;5;241m.\u001B[39miterrows():\n",
      "\u001B[0;31mNameError\u001B[0m: name 'get_next_id' is not defined"
     ]
    }
   ],
   "source": [
    "def append_to_df(new_rows_data_types, new_rows_attribute, new_step_attribute_data_types_df, new_step_attribute_df):\n",
    "    new_rows_data_types_df = pd.DataFrame(new_rows_data_types)\n",
    "    new_rows_attribute_df = pd.DataFrame(new_rows_attribute)\n",
    "    new_step_attribute_data_types_df = pd.concat([new_step_attribute_data_types_df, new_rows_data_types_df], ignore_index=True)\n",
    "    new_step_attribute_df = pd.concat([new_step_attribute_df, new_rows_attribute_df], ignore_index=True)\n",
    "\n",
    "def create_row_attribute_data_type(data_type_id, measurement_type, measurement_unit, measurement_description):\n",
    "    return {\n",
    "        'data_type_id': data_type_id,\n",
    "        'measurement_type': measurement_type,\n",
    "        'measurement_unit': measurement_unit,\n",
    "        'measurement_description': measurement_description\n",
    "    }\n",
    "\n",
    "def create_row_attribute(attribute_id, step_id, data_type_id, attribute_label, expected_value1, expected_value2, comparison_operator, resource_id, resource_type, reference_id):\n",
    "    return {\n",
    "        'id': attribute_id,\n",
    "        'step_id': step_id,\n",
    "        'data_type_id': data_type_id,\n",
    "        'attribute_label': attribute_label,\n",
    "        'expected_value1': expected_value1,\n",
    "        'expected_value2': expected_value2,\n",
    "        'comparison_operator': comparison_operator,\n",
    "        'resource_id': resource_id,\n",
    "        'resource_type': resource_type,\n",
    "        'reference_id': reference_id\n",
    "    }\n",
    "\n",
    "def create_rows(parameter, identifier):\n",
    "    new_rows_attribute_data_type = new_rows_attribute = []\n",
    "    measurement_unit = expected_value1 = expected_value2 = comparison_operator = resource_id = resource_type = reference_id = measurement_type = None\n",
    "    parameter_type, step_id, name = parameter['type'], parameter['stage_id'], parameter['stage_id']\n",
    "    if parameter_type not in (['SINGLE_SELECT', 'CHECKLIST', 'MULTISELECT']):\n",
    "        if parameter_type == 'NUMBER':\n",
    "            measurement_type = 'integer'\n",
    "        elif parameter_type == 'SHOULD_BE':\n",
    "            measurement_type = 'float'\n",
    "            operator = parameter['data']['operator']\n",
    "            if operator == 'EQUAL_TO':\n",
    "                expected_value1 = parameter['data']['value']\n",
    "                comparison_operator = '='\n",
    "            elif operator == 'LESS_THAN':\n",
    "                expected_value1 = parameter['data']['value']\n",
    "                comparison_operator = '<'\n",
    "            elif operator == 'LESS_THAN_EQUAL_TO':\n",
    "                expected_value1 = parameter['data']['value']\n",
    "                comparison_operator = '<='\n",
    "            elif operator == 'MORE_THAN':\n",
    "                expected_value1 = parameter['data']['value']\n",
    "                comparison_operator = '>'\n",
    "            elif operator == 'MORE_THAN_EQUAL_TO':\n",
    "                expected_value1 = parameter['data']['value']\n",
    "                comparison_operator = '>='\n",
    "            elif operator == 'BETWEEN':                \n",
    "                expected_value1 = parameter['data']['lowerValue']\n",
    "                expected_value2 = parameter['data']['upperValue']\n",
    "                comparison_operator = 'between'\n",
    "        elif parameter_type == 'SINGLE_LINE' or parameter_type == 'MULTI_LINE':\n",
    "            measurement_type = 'text'\n",
    "        elif parameter_type == 'DATE' or parameter_type == 'DATE_TIME':\n",
    "            measurement_type = parameter_type.lower()\n",
    "        elif parameter_type == 'YES_NO':\n",
    "            measurement_type = 'boolean'\n",
    "        new_row_attribute_data_type = create_row_attribute_data_type(identifier, measurement_type, measurement_unit, name)\n",
    "        new_row_attribute = create_row_attribute(identifier, step_id, new_row_attribute_data_type['data_type_id'], name, expected_value1, expected_value2, comparison_operator, resource_id, resource_type, reference_id)\n",
    "        new_rows_attribute_data_type.append(new_row_attribute_data_type)\n",
    "        new_rows_attribute.append(new_row_attribute)\n",
    "    else:\n",
    "        if parameter_type == 'SINGLE_SELECT' or parameter_type == 'CHECKLIST' or parameter_type == 'MULTISELECT':\n",
    "            measurement_type = 'boolean'\n",
    "            for choice in row['data']:\n",
    "                pass\n",
    "\n",
    "    # if type == 'YES_NO':\n",
    "    #     measurement_type = 'boolean'\n",
    "\n",
    "    return new_rows_attribute_data_type, new_rows_attribute\n",
    "\n",
    "next_id = get_next_id(new_step_attribute_data_types_df, 'data_type_id')\n",
    "\n",
    "relevant_parameter_df = parameter_df[~parameter_df['type'].isin(['INSTRUCTION', 'MATERIAL'])]\n",
    "for index, row in relevant_parameter_df.iterrows():\n",
    "    new_rows_data_types, new_rows_attribute = create_rows(row, next_id)\n",
    "    append_to_df(new_rows_data_types, new_rows_attribute, new_step_attribute_data_types_df, new_step_attribute_df)\n",
    "    next_id += len(new_rows_data_types)\n",
    "\n",
    "# print(tabulate(new_step_attribute_data_types_df, headers='keys', tablefmt='pretty'))\n",
    "# print(tabulate(new_step_attribute_df, headers='keys', tablefmt='pretty'))"
   ]
  }
 ],
 "metadata": {
  "kernelspec": {
   "display_name": "Python 3 (ipykernel)",
   "language": "python",
   "name": "python3"
  },
  "language_info": {
   "codemirror_mode": {
    "name": "ipython",
    "version": 3
   },
   "file_extension": ".py",
   "mimetype": "text/x-python",
   "name": "python",
   "nbconvert_exporter": "python",
   "pygments_lexer": "ipython3",
   "version": "3.10.12"
  }
 },
 "nbformat": 4,
 "nbformat_minor": 5
}
