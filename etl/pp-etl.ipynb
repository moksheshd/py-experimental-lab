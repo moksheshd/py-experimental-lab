{
 "cells": [
  {
   "cell_type": "code",
   "execution_count": null,
   "id": "initial_id",
   "metadata": {
    "collapsed": true,
    "jupyter": {
     "outputs_hidden": true
    }
   },
   "outputs": [],
   "source": [
    "import psycopg2\n",
    "from psycopg2 import extras\n",
    "import pandas as pd\n",
    "import json\n",
    "import re\n",
    "from tabulate import tabulate"
   ]
  },
  {
   "cell_type": "code",
   "execution_count": null,
   "id": "2e1043407b18371b",
   "metadata": {
    "collapsed": false
   },
   "outputs": [],
   "source": [
    "postgres = {\n",
    "    'host': 'localhost',\n",
    "    'database': 'tenshi',\n",
    "    'username': 'postgres',\n",
    "    'password': 'postgres',\n",
    "}"
   ]
  },
  {
   "cell_type": "code",
   "execution_count": null,
   "id": "a45e0c940ddbce9e",
   "metadata": {
    "collapsed": false
   },
   "outputs": [],
   "source": [
    "source_connection = psycopg2.connect(f\"host={postgres['host']} dbname={postgres['database']} user={postgres['username']} password={postgres['password']}\")"
   ]
  },
  {
   "cell_type": "code",
   "execution_count": null,
   "id": "e4e7977d73c05d25",
   "metadata": {
    "collapsed": false
   },
   "outputs": [],
   "source": [
    "params = {\n",
    "    'checklist_ids': (373013004340813824, 1),\n",
    "    'use_case_ids': (1660291903, 1660291904)\n",
    "}\n",
    "\n",
    "def get_next_id(df: pd.DataFrame, column: str):\n",
    "    max_df_id = df[column].max()\n",
    "    if pd.isna(max_df_id):\n",
    "        return 1\n",
    "    return max_df_id + 1"
   ]
  },
  {
   "cell_type": "code",
   "execution_count": null,
   "id": "a5e02f86e12d6be0",
   "metadata": {
    "collapsed": false
   },
   "outputs": [],
   "source": [
    "# ETL: Facility\n",
    "\n",
    "FACILITY_QUERY = \"\"\"\n",
    "SELECT id, name FROM facilities WHERE id != -1;\n",
    "\"\"\"\n",
    "facility_df = pd.read_sql(FACILITY_QUERY, source_connection, params=params)\n",
    "new_facility_df = facility_df.copy()\n",
    "new_facility_df.rename(columns={'id': 'facility_id', 'name': 'facility_name'}, inplace=True)\n",
    "print(tabulate(new_facility_df, headers='keys', tablefmt='pretty'))"
   ]
  },
  {
   "cell_type": "code",
   "execution_count": null,
   "id": "cd16fe9f444545b2",
   "metadata": {
    "collapsed": false
   },
   "outputs": [],
   "source": [
    "\n",
    "CHECKLIST_QUERY = \"\"\"\n",
    "SELECT c.id as checklist_id, c.name, c.code, uc.id as use_case_id, uc.name as use_case_name, cfm.facilities_id  \n",
    "FROM checklists c JOIN use_cases uc ON uc.id = c.use_cases_id JOIN checklist_facility_mapping cfm ON cfm.checklists_id = c.id\n",
    "WHERE c.state = 'PUBLISHED' AND c.archived = FALSE AND c.use_cases_id IN %(use_case_ids)s AND c.id IN %(checklist_ids)s\n",
    "\"\"\"\n",
    "checklist_df = pd.read_sql(CHECKLIST_QUERY, source_connection, params=params)\n",
    "new_process_df = checklist_df.copy()\n",
    "new_process_df.rename(columns={'checklist_id': 'id', 'use_case_name': 'process_type', 'name': 'process_name',\n",
    "                               'facilities_id': 'facility_id'}, inplace=True)\n",
    "new_process_df.drop('code', axis=1, inplace=True)\n",
    "new_process_df.drop('use_case_id', axis=1, inplace=True)\n",
    "print(tabulate(new_process_df, headers='keys', tablefmt='pretty'))"
   ]
  },
  {
   "cell_type": "code",
   "execution_count": null,
   "id": "391675c312c3c87e",
   "metadata": {
    "collapsed": false
   },
   "outputs": [],
   "source": [
    "STAGE_QUERY = \"\"\"\n",
    "SELECT s.id as stage_id, s.\"name\", s.checklists_id as checklist_id, s.order_tree FROM stages s JOIN checklists c ON c.id = s.checklists_id WHERE s.archived = FALSE AND c.id IN %(checklist_ids)s ORDER BY c.id, s.order_tree\n",
    "\"\"\"\n",
    "stage_df = pd.read_sql(STAGE_QUERY, source_connection, params=params)\n",
    "new_stage_df = stage_df.copy()\n",
    "new_stage_df.rename(columns={'stage_id': 'id', 'name': 'stage_name', 'checklist_id': 'process_id'}, inplace=True)\n",
    "new_stage_df.drop('order_tree', axis=1, inplace=True)\n",
    "new_stage_df['stage_type'] = ''\n",
    "print(tabulate(new_stage_df, headers='keys', tablefmt='pretty'))"
   ]
  },
  {
   "cell_type": "code",
   "execution_count": null,
   "id": "49c3980352c75c51",
   "metadata": {
    "collapsed": false
   },
   "outputs": [],
   "source": [
    "TASK_QUERY = \"\"\"\n",
    "SELECT t.id as task_id, t.name, t.order_tree, t.stages_id as stage_id, s.checklists_id as checklist_id FROM tasks t JOIN stages s ON s.id = t.stages_id JOIN checklists c ON c.id = s.checklists_id WHERE t.archived = FALSE AND s.archived = FALSE AND c.id IN %(checklist_ids)s ORDER BY c.id, s.order_tree, t.order_tree \n",
    "\"\"\"\n",
    "task_df = pd.read_sql(TASK_QUERY, source_connection, params=params)\n",
    "new_step_df = task_df.copy()\n",
    "\n",
    "print(tabulate(task_df, headers='keys', tablefmt='pretty'))"
   ]
  },
  {
   "cell_type": "code",
   "execution_count": null,
   "outputs": [],
   "source": [
    "PARAMETER_QUERY = \"\"\"\n",
    "SELECT p.id as parameter_id, p.\"label\" AS name, p.\"data\", p.\"type\", p.order_tree, p.tasks_id as task_id, t.stages_id as stage_id, s.checklists_id as checklist_id FROM parameters p JOIN tasks t ON t.id = p.tasks_id JOIN stages s ON s.id = t.stages_id JOIN checklists c ON c.id = s.checklists_id WHERE p.archived = FALSE  AND t.archived = FALSE AND s.archived = FALSE AND c.id IN %(checklist_ids)s ORDER BY c.id, s.order_tree, t.order_tree, p.order_tree\n",
    "\"\"\"\n",
    "parameter_df = pd.read_sql(PARAMETER_QUERY, source_connection, params=params)\n",
    "new_step_attribute_df = pd.DataFrame(\n",
    "    columns=['id', 'step_id', 'data_type_id', 'attribute_label', 'resource_id', 'expected_value1', 'expected_value2',\n",
    "             'comparison_operator', 'resource_type'])\n",
    "\n",
    "new_step_attribute_data_types_df = pd.DataFrame(\n",
    "    columns=['data_type_id', 'measurement_type', 'measurement_unit', 'measurement_description'])\n",
    "\n",
    "print(tabulate(parameter_df, headers='keys', tablefmt='pretty'))"
   ],
   "metadata": {
    "collapsed": false
   },
   "id": "7b3cc941ebbec49d"
  },
  {
   "cell_type": "code",
   "execution_count": null,
   "id": "2cc37324ee77959",
   "metadata": {
    "collapsed": false
   },
   "outputs": [],
   "source": [
    "parameter_types = ('INSTRUCTION', 'MATERIAL')\n",
    "# Filter to just instructions \n",
    "instruction_df = parameter_df[parameter_df['type'] == 'INSTRUCTION']\n",
    "\n",
    "# Compile regex once \n",
    "regex = re.compile(r'<.*?>')\n",
    "\n",
    "# Remove HTML tags in a vectorized manner and create a new 'clean_text' column\n",
    "instruction_df['instruction'] = instruction_df['data'].apply(lambda x: re.sub(regex, '', x['text']))\n",
    "\n",
    "# Group by 'task_id' and 'type', then join the texts together\n",
    "grouped = instruction_df.groupby(['task_id', 'type'])['instruction'].apply('\\n'.join).reset_index()\n",
    "\n",
    "# Filter out only the 'INSTRUCTION' type\n",
    "instructions = grouped[grouped['type'] == 'INSTRUCTION']\n",
    "\n",
    "new_step_df = new_step_df.merge(instructions[['task_id', 'instruction']], on='task_id', how='left')\n",
    "\n",
    "new_step_df.rename(columns={'task_id': 'id', 'name': 'step_name'}, inplace=True)\n",
    "new_step_df.drop('order_tree', axis=1, inplace=True)\n",
    "new_step_df.drop('stage_id', axis=1, inplace=True)\n",
    "new_step_df.drop('checklist_id', axis=1, inplace=True)\n",
    "\n",
    "print(tabulate(new_step_df, headers='keys', tablefmt='pretty'))"
   ]
  },
  {
   "cell_type": "code",
   "execution_count": 24,
   "id": "6a5116e0a86e3e8d",
   "metadata": {
    "collapsed": false,
    "ExecuteTime": {
     "end_time": "2023-10-19T20:28:56.978921561Z",
     "start_time": "2023-10-19T20:28:56.882484271Z"
    }
   },
   "outputs": [
    {
     "name": "stdout",
     "output_type": "stream",
     "text": [
      "+----+--------------+------------------+------------------+------------------------------------------------------------------------------------------------------------------------------------------------------------------------+\n",
      "|    | data_type_id | measurement_type | measurement_unit |                                                                        measurement_description                                                                         |\n",
      "+----+--------------+------------------+------------------+------------------------------------------------------------------------------------------------------------------------------------------------------------------------+\n",
      "| 0  |      1       |       text       |                  |                                                                    Enter the previous product name                                                                     |\n",
      "| 1  |      2       |       text       |                  |                                                                      Enter the previous batch no                                                                       |\n",
      "| 2  |      3       |       text       |                  |                                                                          Select the equipment                                                                          |\n",
      "| 3  |      4       |       text       |                  |                                                                                Remarks                                                                                 |\n",
      "| 4  |      5       |     boolean      |                  |                                         Ensure the following - Read and understand the below cleaning steps prior to cleaning                                          |\n",
      "| 5  |      6       |     boolean      |                  |                                                   Ensure the following - Do not clean the machine while in operation                                                   |\n",
      "| 6  |      7       |     boolean      |                  |                                                         Ensure the following - Wear the gloves during cleaning                                                         |\n",
      "| 7  |      8       |     boolean      |                  |                                        Ensure the following - While cleaning ensure that no water entraps into electrical parts                                        |\n",
      "| 8  |      9       |     boolean      |                  |                                            Ensure the following - Nylon brush and cleaned container should be ready for use                                            |\n",
      "| 9  |      10      |     boolean      |                  |                         Ensure the following - Availability of hot purified water temperature between 60°C to 65°C, IPA 70% and dry lint free                          |\n",
      "| 10 |      11      |     boolean      |                  |                                                               To Do - I have read the above instructions                                                               |\n",
      "| 11 |      12      |     boolean      |                  |                              To Do - Remove the labels, materials and documents of previous product from the area and equipment (if any).                              |\n",
      "| 12 |      13      |     boolean      |                  |                                                     To Do - Attach ‘To be cleaned’ status label for the equipment.                                                     |\n",
      "| 13 |      14      |     boolean      |                  |                                                            Select the wiped parts - Booth external surface                                                             |\n",
      "| 14 |      15      |     boolean      |                  |                                                                     Select the wiped parts - Hood                                                                      |\n",
      "| 15 |      16      |     boolean      |                  |                                                                  Select the wiped parts - Side walls                                                                   |\n",
      "| 16 |      17      |     boolean      |                  |                                                                Select the wiped parts - Return raisers                                                                 |\n",
      "| 17 |      18      |     boolean      |                  |                                                                     Select the wiped parts - Table                                                                     |\n",
      "| 18 |      19      |     boolean      |                  |                                                   Select the wiped parts - Other (if any, please specify in remarks)                                                   |\n",
      "| 19 |      20      |       text       |                  |                                                                                Remarks                                                                                 |\n",
      "| 20 |      21      |     boolean      |                  |                                                             Primary wiping  - Primary wiping is completed                                                              |\n",
      "| 21 |      22      |     boolean      |                  |                                                            Select the wiped parts - Booth external surface                                                             |\n",
      "| 22 |      23      |     boolean      |                  |                                                                     Select the wiped parts - Hood                                                                      |\n",
      "| 23 |      24      |     boolean      |                  |                                                                  Select the wiped parts - Side walls                                                                   |\n",
      "| 24 |      25      |     boolean      |                  |                                                                Select the wiped parts - Return raisers                                                                 |\n",
      "| 25 |      26      |     boolean      |                  |                                                                     Select the wiped parts - Table                                                                     |\n",
      "| 26 |      27      |     boolean      |                  |                                                   Select the wiped parts - Other (if any, please specify in remarks)                                                   |\n",
      "| 27 |      28      |       text       |                  |                                                                                Remarks                                                                                 |\n",
      "| 28 |      29      |     boolean      |                  |                                                            Secondary wiping - Secondary wiping is completed                                                            |\n",
      "| 29 |      30      |     boolean      |                  |                                                             Tertiary wiping - Wiping activity is completed                                                             |\n",
      "| 30 |      31      |     boolean      |                  |                                                                Cleaning of Return grills  - Applicable                                                                 |\n",
      "| 31 |      32      |     boolean      |                  |                                                              Cleaning of Return grills  - Non applicable                                                               |\n",
      "| 32 |      33      |       text       |                  |                                                                     Enter the Return grill ID - 1                                                                      |\n",
      "| 33 |      34      |       text       |                  |                                                                     Enter the Return grill ID - 2                                                                      |\n",
      "| 34 |      35      |     boolean      |                  |                                                       To Do - Return grills has been transferred to washing room                                                       |\n",
      "| 35 |      36      |     boolean      |                  |                                                To Do - Wash the return grills with sufficient quantity of potable water                                                |\n",
      "| 36 |      37      |     boolean      |                  |                                                    To Do - Clean the surface of the return grills using nylon brush                                                    |\n",
      "| 37 |      38      |      float       |                  |                                                                   Temperature of Hot purified water                                                                    |\n",
      "| 38 |      39      |     boolean      |                  |                            Final rinse and drying  - Final rinse the return grills with hot purified water temperature between 60° C - 65°C                            |\n",
      "| 39 |      40      |     boolean      |                  |                                                         Final rinse and drying  - Dry with dry lint free wipes                                                         |\n",
      "| 40 |      41      |     boolean      |                  |                                                      Completion of cleaning - Cleaning of return grills completed                                                      |\n",
      "| 41 |      42      |     boolean      |                  |                                                       To Do - Affix the \"cleaned label\" to the cleaned equipment                                                       |\n",
      "| 42 |      43      |     boolean      |                  |                                                     To Do - Affix the \"cleaned label\" to the cleaned return grills                                                     |\n",
      "| 43 |      44      |     boolean      |                  |                                  To Do - Cover the cleaned return grills with polythene cover and transfer to dedicated cleaned area                                   |\n",
      "| 44 |      45      |     boolean      |                  |                                                              Visual inspection done for - Sampling booth                                                               |\n",
      "| 45 |      46      |     boolean      |                  |                                                             Visual inspection done for - Dispensing booth                                                              |\n",
      "| 46 |      47      |     boolean      |                  |                                                               Visual inspection done for - Return grills                                                               |\n",
      "| 47 |      48      |     boolean      |                  |                                                              Sampling booth - Result of visual inspection                                                              |\n",
      "| 48 |      49      |     boolean      |                  |                                                             Dispensing booth - Result of visual inspection                                                             |\n",
      "| 49 |      50      |     boolean      |                  |                                                              Return grills - Result of visual inspection                                                               |\n",
      "| 50 |      51      |       text       |                  |                                                                                Remarks                                                                                 |\n",
      "| 51 |      52      |     boolean      |                  |                                  Once the satisfactory result on visual inspection - Proceed to update the status label of equipment                                   |\n",
      "| 52 |      53      |     boolean      |                  | Once the satisfactory result on visual inspection - Proceed to cover the cleaned return grills, update the status label and transfer to cleaned area / storage cabinet |\n",
      "| 53 |      54      |     boolean      |                  |                                                              Cleaning verification activity - Applicable                                                               |\n",
      "| 54 |      55      |     boolean      |                  |                                                            Cleaning verification activity - Not applicable                                                             |\n",
      "| 55 |      56      |       text       |                  |                                If it is applicable, please provide the protocol number of cleaning verification / validation protocol.                                 |\n",
      "| 56 |      57      |     boolean      |                  |                                                         Is cleanliness verification by IPQA applicable? - Yes                                                          |\n",
      "| 57 |      58      |     boolean      |                  |                                                    Is cleanliness verification by IPQA applicable? - Not Applicable                                                    |\n",
      "| 58 |      59      |     boolean      |                  |                                                              Visual inspection done for - Sampling booth                                                               |\n",
      "| 59 |      60      |     boolean      |                  |                                                             Visual inspection done for - Dispensing booth                                                              |\n",
      "| 60 |      61      |     boolean      |                  |                                                               Visual inspection done for - Return grills                                                               |\n",
      "| 61 |      62      |     boolean      |                  |                                                              Sampling booth - Result of visual inspection                                                              |\n",
      "| 62 |      63      |     boolean      |                  |                                                             Dispensing booth - Result of visual inspection                                                             |\n",
      "| 63 |      64      |     boolean      |                  |                                                              Return grills - Result of visual inspection                                                               |\n",
      "| 64 |      65      |       text       |                  |                                                                                Remarks                                                                                 |\n",
      "| 65 |      66      |     boolean      |                  |                                  Once the satisfactory result on visual inspection - Proceed to update the status label of equipment                                   |\n",
      "| 66 |      67      |     boolean      |                  | Once the satisfactory result on visual inspection - Proceed to cover the cleaned return grills, update the status label and transfer to cleaned area / storage cabinet |\n",
      "| 67 |      68      |     boolean      |                  |                                                        Cleaning verification/ validation activity - Applicable                                                         |\n",
      "| 68 |      69      |     boolean      |                  |                                                      Cleaning verification/ validation activity - Non applicable                                                       |\n",
      "| 69 |      70      |       text       |                  |                             If it is applicable, please provide the Protocol/Report number of cleaning verification / validation protocol.                             |\n",
      "| 70 |      71      |     boolean      |                  |                                                        To Do - Forwarded request for swab/ rinse analysis to QC                                                        |\n",
      "| 71 |      72      |     boolean      |                  |                            To Do - Swab/ Rinse sampling has been collected as per the approved cleaning verification/ validation protocol.                             |\n",
      "| 72 |      73      |     boolean      |                  |                                                 Is waiting for cleaning verification result applicable ? - Applicable                                                  |\n",
      "| 73 |      74      |     boolean      |                  |                                               Is waiting for cleaning verification result applicable ? - Not Applicable                                                |\n",
      "| 74 |      75      |     boolean      |                  |                                                                             Sample result                                                                              |\n",
      "| 75 |      76      |     boolean      |                  |                                                            If it is not complies, initiate deviation - Yes                                                             |\n",
      "| 76 |      77      |     boolean      |                  |                                                             If it is not complies, initiate deviation - NA                                                             |\n",
      "| 77 |      78      |       text       |                  |                                                                       Provide the Deviation No.                                                                        |\n",
      "| 78 |      79      |       text       |                  |                                  If re- cleaning is applicable with new JOB as per deviation, please provide the JOB ID for reference                                  |\n",
      "| 79 |      80      |     boolean      |                  |                                                           To Do - Cleared for Sampling/ Dispensing activity                                                            |\n",
      "+----+--------------+------------------+------------------+------------------------------------------------------------------------------------------------------------------------------------------------------------------------+\n"
     ]
    },
    {
     "name": "stderr",
     "output_type": "stream",
     "text": [
      "/tmp/ipykernel_128285/1807400120.py:1: UserWarning: pandas only supports SQLAlchemy connectable (engine/connection) or database string URI or sqlite3 DBAPI2 connection. Other DBAPI2 objects are not tested. Please consider using SQLAlchemy.\n",
      "  parameter_df = pd.read_sql(PARAMETER_QUERY, source_connection, params=params)\n"
     ]
    }
   ],
   "source": [
    "def append_to_df(new_rows_attribute_data_types, new_rows_attribute, attribute_data_types_df, attribute_df):\n",
    "    new_rows_data_types_df = pd.DataFrame(new_rows_attribute_data_types)\n",
    "    new_rows_attribute_df = pd.DataFrame(new_rows_attribute)\n",
    "    attribute_data_types_df = pd.concat([attribute_data_types_df, new_rows_data_types_df], ignore_index=True)\n",
    "    attribute_df = pd.concat([attribute_df, new_rows_attribute_df], ignore_index=True)\n",
    "    return  attribute_data_types_df, attribute_df\n",
    "\n",
    "def create_row_attribute_data_type(data_type_id, measurement_type, measurement_unit, measurement_description):\n",
    "    return {\n",
    "        'data_type_id': data_type_id,\n",
    "        'measurement_type': measurement_type,\n",
    "        'measurement_unit': measurement_unit,\n",
    "        'measurement_description': measurement_description\n",
    "    }\n",
    "\n",
    "def create_row_attribute(attribute_id, step_id, data_type_id, attribute_label, expected_value1, expected_value2, comparison_operator, resource_id, resource_type, reference_id):\n",
    "    return {\n",
    "        'id': attribute_id,\n",
    "        'step_id': step_id,\n",
    "        'data_type_id': data_type_id,\n",
    "        'attribute_label': attribute_label,\n",
    "        'expected_value1': expected_value1,\n",
    "        'expected_value2': expected_value2,\n",
    "        'comparison_operator': comparison_operator,\n",
    "        'resource_id': resource_id,\n",
    "        'resource_type': resource_type,\n",
    "        'reference_id': reference_id\n",
    "    }\n",
    "\n",
    "def create_rows(parameter, identifier):\n",
    "    new_rows_attribute_data_type = []\n",
    "    new_rows_attribute = []\n",
    "    measurement_unit = expected_value1 = expected_value2 = comparison_operator = resource_id = resource_type = reference_id = measurement_type = None\n",
    "    parameter_type, step_id, name = parameter['type'], parameter['stage_id'], parameter['name']\n",
    "    if parameter_type not in (['SINGLE_SELECT', 'CHECKLIST', 'MULTISELECT']):\n",
    "        is_parameter_type_handled = True\n",
    "        if parameter_type == 'NUMBER':\n",
    "            measurement_type = 'integer'\n",
    "        elif parameter_type == 'SHOULD_BE':\n",
    "            measurement_type = 'float'\n",
    "            operator = parameter['data']['operator']\n",
    "            if operator == 'EQUAL_TO':\n",
    "                expected_value1 = parameter['data']['value']\n",
    "                comparison_operator = '='\n",
    "            elif operator == 'LESS_THAN':\n",
    "                expected_value1 = parameter['data']['value']\n",
    "                comparison_operator = '<'\n",
    "            elif operator == 'LESS_THAN_EQUAL_TO':\n",
    "                expected_value1 = parameter['data']['value']\n",
    "                comparison_operator = '<='\n",
    "            elif operator == 'MORE_THAN':\n",
    "                expected_value1 = parameter['data']['value']\n",
    "                comparison_operator = '>'\n",
    "            elif operator == 'MORE_THAN_EQUAL_TO':\n",
    "                expected_value1 = parameter['data']['value']\n",
    "                comparison_operator = '>='\n",
    "            elif operator == 'BETWEEN':                \n",
    "                expected_value1 = parameter['data']['lowerValue']\n",
    "                expected_value2 = parameter['data']['upperValue']\n",
    "                comparison_operator = 'between'\n",
    "        elif parameter_type == 'SINGLE_LINE' or parameter_type == 'MULTI_LINE':\n",
    "            measurement_type = 'text'\n",
    "        elif parameter_type == 'DATE' or parameter_type == 'DATE_TIME':\n",
    "            measurement_type = parameter_type.lower()\n",
    "        elif parameter_type == 'YES_NO':\n",
    "            measurement_type = 'boolean'\n",
    "        elif parameter_type == 'RESOURCE':\n",
    "            measurement_type = 'text'\n",
    "            resource_type = parameter['data']['collection']\n",
    "        else:\n",
    "            print(f\"Parameter type: {parameter_type} is not implemented\")\n",
    "            is_parameter_type_handled = False\n",
    "        if is_parameter_type_handled:    \n",
    "            new_row_attribute_data_type = create_row_attribute_data_type(identifier, measurement_type, measurement_unit, name)\n",
    "            new_row_attribute = create_row_attribute(identifier, step_id, new_row_attribute_data_type['data_type_id'], name, expected_value1, expected_value2, comparison_operator, resource_id, resource_type, reference_id)\n",
    "            new_rows_attribute_data_type.append(new_row_attribute_data_type)\n",
    "            new_rows_attribute.append(new_row_attribute)\n",
    "    else:\n",
    "        if parameter_type == 'SINGLE_SELECT' or parameter_type == 'CHECKLIST' or parameter_type == 'MULTISELECT':\n",
    "            measurement_type = 'boolean'\n",
    "            for choice in row['data']:\n",
    "                name = parameter['name'] + ' - ' + choice['name']\n",
    "                reference_id = choice['id']\n",
    "                new_row_attribute_data_type = create_row_attribute_data_type(identifier, measurement_type, measurement_unit, name)\n",
    "                new_row_attribute = create_row_attribute(identifier, step_id, new_row_attribute_data_type['data_type_id'], name, expected_value1, expected_value2, comparison_operator, resource_id, resource_type, reference_id)\n",
    "                new_rows_attribute_data_type.append(new_row_attribute_data_type)\n",
    "                new_rows_attribute.append(new_row_attribute)\n",
    "                identifier += 1\n",
    "        else:\n",
    "            print(f\"Parameter type: {parameter_type} is not implemented.\")\n",
    "                \n",
    "    return new_rows_attribute_data_type, new_rows_attribute\n",
    "\n",
    "next_id = get_next_id(new_step_attribute_data_types_df, 'data_type_id')\n",
    "relevant_parameter_df = parameter_df[~parameter_df['type'].isin(['INSTRUCTION', 'MATERIAL', 'MEDIA', 'SIGNATURE', 'FILE_UPLOAD'])]\n",
    "for index, row in relevant_parameter_df.iterrows():\n",
    "    attribute_data_types, attributes = create_rows(row, next_id)\n",
    "    if len(attribute_data_types) != 0 and len(attributes) != 0:\n",
    "        new_step_attribute_data_types_df, new_step_attribute_df = append_to_df(attribute_data_types, attributes, new_step_attribute_data_types_df, new_step_attribute_df)\n",
    "    next_id += len(attribute_data_types)\n",
    "\n",
    "print(tabulate(new_step_attribute_data_types_df, headers='keys', tablefmt='pretty'))\n",
    "print(tabulate(new_step_attribute_df, headers='keys', tablefmt='pretty'))"
   ]
  }
 ],
 "metadata": {
  "kernelspec": {
   "display_name": "Python 3 (ipykernel)",
   "language": "python",
   "name": "python3"
  },
  "language_info": {
   "codemirror_mode": {
    "name": "ipython",
    "version": 3
   },
   "file_extension": ".py",
   "mimetype": "text/x-python",
   "name": "python",
   "nbconvert_exporter": "python",
   "pygments_lexer": "ipython3",
   "version": "3.10.12"
  }
 },
 "nbformat": 4,
 "nbformat_minor": 5
}
